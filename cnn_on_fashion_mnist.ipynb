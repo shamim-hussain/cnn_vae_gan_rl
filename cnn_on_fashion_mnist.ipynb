{
  "nbformat": 4,
  "nbformat_minor": 0,
  "metadata": {
    "colab": {
      "name": "cnn_on_fashion_mnist.ipynb",
      "provenance": [],
      "collapsed_sections": [],
      "toc_visible": true,
      "authorship_tag": "ABX9TyMBMU1XNyXwSgFRS4h+1FOE",
      "include_colab_link": true
    },
    "kernelspec": {
      "name": "python3",
      "display_name": "Python 3"
    },
    "language_info": {
      "name": "python"
    }
  },
  "cells": [
    {
      "cell_type": "markdown",
      "metadata": {
        "id": "view-in-github",
        "colab_type": "text"
      },
      "source": [
        "<a href=\"https://colab.research.google.com/github/shamim-hussain/cnn_vae_gan_rl/blob/main/cnn_on_fashion_mnist.ipynb\" target=\"_parent\"><img src=\"https://colab.research.google.com/assets/colab-badge.svg\" alt=\"Open In Colab\"/></a>"
      ]
    },
    {
      "cell_type": "markdown",
      "metadata": {
        "id": "Nk6GP2LPCgU5"
      },
      "source": [
        "# Fashion MNIST Classification using CNN\n",
        "### Problem Description\n",
        "We will perform a classification task on the Fashion MNIST dataset:\n",
        "https://github.com/zalandoresearch/fashion-mnist\n",
        "The dataset contains 28x28 grayscale(8bit) images of different fashion articles. There are 10 different classes. The training set contains 60000 examples whereas the test set contains 10000 examples. All the classes have same number of examples so it is a blanced classification problem."
      ]
    },
    {
      "cell_type": "markdown",
      "metadata": {
        "id": "304DiaGRxcoJ"
      },
      "source": [
        "# Download, prepare and visualize the dataset"
      ]
    },
    {
      "cell_type": "markdown",
      "metadata": {
        "id": "1IrmzEYKLnOf"
      },
      "source": [
        "## Download the Dataset"
      ]
    },
    {
      "cell_type": "markdown",
      "metadata": {
        "id": "Yz9cWilUL4JG"
      },
      "source": [
        "The download links and the coad for loading the dataset in NumPy format can be found at https://github.com/zalandoresearch/fashion-mnist"
      ]
    },
    {
      "cell_type": "code",
      "metadata": {
        "colab": {
          "base_uri": "https://localhost:8080/"
        },
        "id": "tCO9I9PpSy3-",
        "outputId": "74aa71f7-5f81-4f5c-ed1a-12c307d0c521"
      },
      "source": [
        "'''From: https://github.com/zalandoresearch/fashion-mnist'''\n",
        "\n",
        "!wget http://fashion-mnist.s3-website.eu-central-1.amazonaws.com/train-images-idx3-ubyte.gz\n",
        "!wget http://fashion-mnist.s3-website.eu-central-1.amazonaws.com/train-labels-idx1-ubyte.gz\n",
        "!wget http://fashion-mnist.s3-website.eu-central-1.amazonaws.com/t10k-images-idx3-ubyte.gz\n",
        "!wget http://fashion-mnist.s3-website.eu-central-1.amazonaws.com/t10k-labels-idx1-ubyte.gz"
      ],
      "execution_count": null,
      "outputs": [
        {
          "output_type": "stream",
          "name": "stdout",
          "text": [
            "--2021-10-26 03:45:12--  http://fashion-mnist.s3-website.eu-central-1.amazonaws.com/train-images-idx3-ubyte.gz\n",
            "Resolving fashion-mnist.s3-website.eu-central-1.amazonaws.com (fashion-mnist.s3-website.eu-central-1.amazonaws.com)... 52.219.171.16\n",
            "Connecting to fashion-mnist.s3-website.eu-central-1.amazonaws.com (fashion-mnist.s3-website.eu-central-1.amazonaws.com)|52.219.171.16|:80... connected.\n",
            "HTTP request sent, awaiting response... 200 OK\n",
            "Length: 26421880 (25M) [binary/octet-stream]\n",
            "Saving to: ‘train-images-idx3-ubyte.gz’\n",
            "\n",
            "train-images-idx3-u 100%[===================>]  25.20M  11.2MB/s    in 2.2s    \n",
            "\n",
            "2021-10-26 03:45:14 (11.2 MB/s) - ‘train-images-idx3-ubyte.gz’ saved [26421880/26421880]\n",
            "\n",
            "--2021-10-26 03:45:14--  http://fashion-mnist.s3-website.eu-central-1.amazonaws.com/train-labels-idx1-ubyte.gz\n",
            "Resolving fashion-mnist.s3-website.eu-central-1.amazonaws.com (fashion-mnist.s3-website.eu-central-1.amazonaws.com)... 52.219.171.16\n",
            "Connecting to fashion-mnist.s3-website.eu-central-1.amazonaws.com (fashion-mnist.s3-website.eu-central-1.amazonaws.com)|52.219.171.16|:80... connected.\n",
            "HTTP request sent, awaiting response... 200 OK\n",
            "Length: 29515 (29K) [binary/octet-stream]\n",
            "Saving to: ‘train-labels-idx1-ubyte.gz’\n",
            "\n",
            "train-labels-idx1-u 100%[===================>]  28.82K  --.-KB/s    in 0.1s    \n",
            "\n",
            "2021-10-26 03:45:15 (210 KB/s) - ‘train-labels-idx1-ubyte.gz’ saved [29515/29515]\n",
            "\n",
            "--2021-10-26 03:45:15--  http://fashion-mnist.s3-website.eu-central-1.amazonaws.com/t10k-images-idx3-ubyte.gz\n",
            "Resolving fashion-mnist.s3-website.eu-central-1.amazonaws.com (fashion-mnist.s3-website.eu-central-1.amazonaws.com)... 52.219.171.16\n",
            "Connecting to fashion-mnist.s3-website.eu-central-1.amazonaws.com (fashion-mnist.s3-website.eu-central-1.amazonaws.com)|52.219.171.16|:80... connected.\n",
            "HTTP request sent, awaiting response... 200 OK\n",
            "Length: 4422102 (4.2M) [binary/octet-stream]\n",
            "Saving to: ‘t10k-images-idx3-ubyte.gz’\n",
            "\n",
            "t10k-images-idx3-ub 100%[===================>]   4.22M  3.77MB/s    in 1.1s    \n",
            "\n",
            "2021-10-26 03:45:16 (3.77 MB/s) - ‘t10k-images-idx3-ubyte.gz’ saved [4422102/4422102]\n",
            "\n",
            "--2021-10-26 03:45:16--  http://fashion-mnist.s3-website.eu-central-1.amazonaws.com/t10k-labels-idx1-ubyte.gz\n",
            "Resolving fashion-mnist.s3-website.eu-central-1.amazonaws.com (fashion-mnist.s3-website.eu-central-1.amazonaws.com)... 52.219.171.16\n",
            "Connecting to fashion-mnist.s3-website.eu-central-1.amazonaws.com (fashion-mnist.s3-website.eu-central-1.amazonaws.com)|52.219.171.16|:80... connected.\n",
            "HTTP request sent, awaiting response... 200 OK\n",
            "Length: 5148 (5.0K) [binary/octet-stream]\n",
            "Saving to: ‘t10k-labels-idx1-ubyte.gz’\n",
            "\n",
            "t10k-labels-idx1-ub 100%[===================>]   5.03K  --.-KB/s    in 0s      \n",
            "\n",
            "2021-10-26 03:45:17 (46.8 MB/s) - ‘t10k-labels-idx1-ubyte.gz’ saved [5148/5148]\n",
            "\n"
          ]
        }
      ]
    },
    {
      "cell_type": "markdown",
      "metadata": {
        "id": "wiDSgfIfMGa-"
      },
      "source": [
        "Load the dataset in NumPy format"
      ]
    },
    {
      "cell_type": "code",
      "metadata": {
        "id": "O14Hj-PtSgcu"
      },
      "source": [
        "\n",
        "'''From: https://github.com/zalandoresearch/fashion-mnist/blob/master/utils/mnist_reader.py'''\n",
        "def load_mnist(path, kind='train'):\n",
        "    import os\n",
        "    import gzip\n",
        "    import numpy as np\n",
        "\n",
        "    \"\"\"Load MNIST data from `path`\"\"\"\n",
        "    labels_path = os.path.join(path,\n",
        "                               '%s-labels-idx1-ubyte.gz'\n",
        "                               % kind)\n",
        "    images_path = os.path.join(path,\n",
        "                               '%s-images-idx3-ubyte.gz'\n",
        "                               % kind)\n",
        "\n",
        "    with gzip.open(labels_path, 'rb') as lbpath:\n",
        "        labels = np.frombuffer(lbpath.read(), dtype=np.uint8,\n",
        "                               offset=8)\n",
        "\n",
        "    with gzip.open(images_path, 'rb') as imgpath:\n",
        "        images = np.frombuffer(imgpath.read(), dtype=np.uint8,\n",
        "                               offset=16).reshape(len(labels), 784)\n",
        "\n",
        "    return images, labels\n",
        "\n",
        "X_train, Y_train = load_mnist('./', kind='train') # Training set\n",
        "X_test, Y_test = load_mnist('./', kind='t10k') # Test set"
      ],
      "execution_count": null,
      "outputs": []
    },
    {
      "cell_type": "markdown",
      "metadata": {
        "id": "PMtwVbrnMPSN"
      },
      "source": [
        "## Explore and Preprocess the data"
      ]
    },
    {
      "cell_type": "markdown",
      "metadata": {
        "id": "oPc6bsxxMb4t"
      },
      "source": [
        "Let us first explore the shape and datatypes of the examples and labels"
      ]
    },
    {
      "cell_type": "code",
      "metadata": {
        "colab": {
          "base_uri": "https://localhost:8080/"
        },
        "id": "9j6qNter7UUU",
        "outputId": "f8ae3b69-adeb-4bb3-9c06-b4954f94ef54"
      },
      "source": [
        "print('Shape of data:', X_train.shape)\n",
        "print('Type of data:', X_train.dtype)\n",
        "print('Shape of data:', Y_train.shape)\n",
        "print('Type of labes:', Y_train.dtype)"
      ],
      "execution_count": null,
      "outputs": [
        {
          "output_type": "stream",
          "name": "stdout",
          "text": [
            "Shape of data: (60000, 784)\n",
            "Type of data: uint8\n",
            "Shape of data: (60000,)\n",
            "Type of labes: uint8\n"
          ]
        }
      ]
    },
    {
      "cell_type": "markdown",
      "metadata": {
        "id": "xHBvEoYyMpK2"
      },
      "source": [
        "We can reshape and visualize images from each class"
      ]
    },
    {
      "cell_type": "code",
      "metadata": {
        "colab": {
          "base_uri": "https://localhost:8080/",
          "height": 179
        },
        "id": "LbrBhQFx2mnz",
        "outputId": "6674c8eb-1c88-45a6-9644-13584beaa9de"
      },
      "source": [
        "import numpy as np\n",
        "import matplotlib.pyplot as plt\n",
        "# Visualize data\n",
        "plt.figure(figsize=[20,5])\n",
        "for y in range(10):\n",
        "    plt.subplot(1,10,1+y)\n",
        "    plt.imshow(X_train[np.where(Y_train==y)[0][0]].reshape(28,28),cmap='gray')\n",
        "    plt.axis('off')\n",
        "    plt.title(f'class:{y}')\n",
        "plt.tight_layout()\n",
        "plt.show()"
      ],
      "execution_count": null,
      "outputs": [
        {
          "output_type": "display_data",
          "data": {
            "text/plain": [
              "<Figure size 1440x360 with 10 Axes>"
            ],
            "image/png": "[encoded data removed]"
          },
          "metadata": {
            "needs_background": "light"
          }
        }
      ]
    },
    {
      "cell_type": "markdown",
      "metadata": {
        "id": "Bw6NZc0MMwwt"
      },
      "source": [
        "### Conversion into floating point image with channel dimension"
      ]
    },
    {
      "cell_type": "markdown",
      "metadata": {
        "id": "ZIl6P49Cxv7w"
      },
      "source": [
        "We will convert the images into floating point formats - with intensity values between $[0\\ 1]$. Additionally we will add a channel dimension (single channel for grayscale image) to feed them as inputs to CNNs."
      ]
    },
    {
      "cell_type": "code",
      "metadata": {
        "id": "LJqyvIZe79_d"
      },
      "source": [
        "X_train = X_train.reshape(-1,28,28,1).astype('float32')/255\n",
        "X_test = X_test.reshape(-1,28,28,1).astype('float32')/255\n",
        "\n",
        "Y_train = Y_train.astype('int64')\n",
        "Y_test = Y_test.astype('int64')"
      ],
      "execution_count": null,
      "outputs": []
    },
    {
      "cell_type": "markdown",
      "metadata": {
        "id": "aMTl4mZUycB1"
      },
      "source": [
        "### Train-validation split \n",
        "\n",
        "A validation split is created for hyperparameter selection."
      ]
    },
    {
      "cell_type": "code",
      "metadata": {
        "id": "-eiJDTG64BRl"
      },
      "source": [
        "from sklearn.model_selection import train_test_split\n",
        "X_train, X_val, Y_train, Y_val = train_test_split(X_train, Y_train, test_size=0.1,\n",
        "                                                  stratify=Y_train, random_state=777)"
      ],
      "execution_count": null,
      "outputs": []
    },
    {
      "cell_type": "markdown",
      "metadata": {
        "id": "RL79Xgbf4CH9"
      },
      "source": [
        "# CNN Model definition and training"
      ]
    },
    {
      "cell_type": "markdown",
      "metadata": {
        "id": "i4wWughPzKVs"
      },
      "source": [
        "## Model definintion"
      ]
    },
    {
      "cell_type": "markdown",
      "metadata": {
        "id": "y-uxcZEEzOJz"
      },
      "source": [
        "The following design choices have been made\n",
        "* We will use a 2 blocks of convolutional layers.\n",
        "* Each block will have a structure [Conv, Conv, MaxPool].\n",
        "* The number of channels will be doubled for the second layer, since we are contracting the spatial dimension, it is customary to expand the channel dimension.\n",
        "* We will pool by a grater factor (4x) in the first block than the socond one (2x) to because adacent pixels are supposed to have a lot of redudancies which can be quickly reduced.\n",
        "* Also we will use bigger filters (5x5) in the first block than the second one (3x3) due to the same reason.\n",
        "* After the convolutional layers we will flatten the dimensions and apply two linear (dense) layers.\n",
        "* We will use dropout and L2 regularization to prevent overfitting. We found that a dropout rate of 0.2 (which is quite high compared to a typical value of 0.1) works better for this unaugmented dataset."
      ]
    },
    {
      "cell_type": "code",
      "metadata": {
        "colab": {
          "base_uri": "https://localhost:8080/"
        },
        "id": "yzGCdF8NwdKt",
        "outputId": "7935e6bc-a9d9-4804-bc2f-6b93e9bb18b4"
      },
      "source": [
        "import tensorflow as tf\n",
        "from tensorflow.keras import layers, models, optimizers, regularizers, losses, metrics\n",
        "\n",
        "\n",
        "dropout_prob = 0.2\n",
        "l2_reg = regularizers.l2(5e-4)\n",
        "channel_mult = 1\n",
        "\n",
        "model_layers = [\n",
        "    layers.ZeroPadding2D(2, name='pad2', input_shape=(28,28,1)),\n",
        "    layers.Conv2D(filters=round(32*channel_mult), kernel_size=(5,5), activation='elu',\n",
        "                                padding='same', kernel_regularizer=l2_reg, name='conv11'),\n",
        "    layers.Dropout(dropout_prob, name='drp11'),\n",
        "\n",
        "    layers.Conv2D(filters=round(32*channel_mult), kernel_size=(5,5), activation='elu',\n",
        "                                padding='same', kernel_regularizer=l2_reg, name='conv12'),\n",
        "    layers.Dropout(dropout_prob, name='drp12'),\n",
        "    layers.MaxPool2D((4,4), name='pool1'),\n",
        "\n",
        "\n",
        "    layers.Conv2D(filters=round(64*channel_mult), kernel_size=(3,3), activation='elu',\n",
        "                                padding='same', kernel_regularizer=l2_reg, name='conv21'),\n",
        "    layers.Dropout(dropout_prob, name='drp21'),\n",
        "\n",
        "    layers.Conv2D(filters=round(64*channel_mult), kernel_size=(3,3), activation='elu',\n",
        "                                padding='same', kernel_regularizer=l2_reg, name='conv22'),\n",
        "    layers.Dropout(dropout_prob, name='drp22'),\n",
        "    layers.MaxPool2D((2,2), name='pool2'),\n",
        "\n",
        "\n",
        "    layers.Flatten(name='flatten'),\n",
        "    layers.Dense(round(64*channel_mult), kernel_regularizer=l2_reg, activation='elu', name='dense1'),\n",
        "    layers.Dense(10, activation=None, name='dense2')\n",
        "]\n",
        "\n",
        "model = models.Sequential(model_layers, name='trained_on_given_data')\n",
        "model.summary()"
      ],
      "execution_count": null,
      "outputs": [
        {
          "output_type": "stream",
          "name": "stdout",
          "text": [
            "Model: \"trained_on_given_data\"\n",
            "_________________________________________________________________\n",
            "Layer (type)                 Output Shape              Param #   \n",
            "=================================================================\n",
            "pad2 (ZeroPadding2D)         (None, 32, 32, 1)         0         \n",
            "_________________________________________________________________\n",
            "conv11 (Conv2D)              (None, 32, 32, 32)        832       \n",
            "_________________________________________________________________\n",
            "drp11 (Dropout)              (None, 32, 32, 32)        0         \n",
            "_________________________________________________________________\n",
            "conv12 (Conv2D)              (None, 32, 32, 32)        25632     \n",
            "_________________________________________________________________\n",
            "drp12 (Dropout)              (None, 32, 32, 32)        0         \n",
            "_________________________________________________________________\n",
            "pool1 (MaxPooling2D)         (None, 8, 8, 32)          0         \n",
            "_________________________________________________________________\n",
            "conv21 (Conv2D)              (None, 8, 8, 64)          18496     \n",
            "_________________________________________________________________\n",
            "drp21 (Dropout)              (None, 8, 8, 64)          0         \n",
            "_________________________________________________________________\n",
            "conv22 (Conv2D)              (None, 8, 8, 64)          36928     \n",
            "_________________________________________________________________\n",
            "drp22 (Dropout)              (None, 8, 8, 64)          0         \n",
            "_________________________________________________________________\n",
            "pool2 (MaxPooling2D)         (None, 4, 4, 64)          0         \n",
            "_________________________________________________________________\n",
            "flatten (Flatten)            (None, 1024)              0         \n",
            "_________________________________________________________________\n",
            "dense1 (Dense)               (None, 64)                65600     \n",
            "_________________________________________________________________\n",
            "dense2 (Dense)               (None, 10)                650       \n",
            "=================================================================\n",
            "Total params: 148,138\n",
            "Trainable params: 148,138\n",
            "Non-trainable params: 0\n",
            "_________________________________________________________________\n"
          ]
        }
      ]
    },
    {
      "cell_type": "markdown",
      "metadata": {
        "id": "7PDjzM011riP"
      },
      "source": [
        "## Training the model\n"
      ]
    },
    {
      "cell_type": "markdown",
      "metadata": {
        "id": "oEihXJb9172e"
      },
      "source": [
        "Now we will train the model. \n",
        "* We will use the cross-entropy loss.\n",
        "* We will use accuracy as evaluation metric, because this is a balanced classification problem.\n",
        "* We will use the Adam optimizer with an intial learning rate of $10^{-3}$.\n",
        "* The learning will be decayed exponentially by a factor of 0.9 at each epoch. We will train the model for 50 epochs, beyond these number of epochs, the model just overfits the training data."
      ]
    },
    {
      "cell_type": "code",
      "metadata": {
        "colab": {
          "base_uri": "https://localhost:8080/"
        },
        "id": "hEzH-s1SwfkN",
        "outputId": "bd48ba4d-77b5-4736-c1b0-a2b1ff8e2132"
      },
      "source": [
        "lr_schedule = optimizers.schedules.ExponentialDecay(1e-3, len(X_train)//64, 0.9)\n",
        "optim = optimizers.Adam(lr_schedule)\n",
        "loss_fn = losses.SparseCategoricalCrossentropy(from_logits=True, name='xent')\n",
        "acc = metrics.SparseCategoricalAccuracy(name='acc')\n",
        "\n",
        "model.compile(optim, loss_fn, [acc])\n",
        "\n",
        "hist_obj = model.fit(X_train, Y_train, batch_size=64, epochs=50, validation_data=(X_val, Y_val))"
      ],
      "execution_count": null,
      "outputs": [
        {
          "output_type": "stream",
          "name": "stdout",
          "text": [
            "Epoch 1/50\n",
            "844/844 [==============================] - 5s 6ms/step - loss: 0.6117 - acc: 0.8243 - val_loss: 0.4738 - val_acc: 0.8707\n",
            "Epoch 2/50\n",
            "844/844 [==============================] - 5s 6ms/step - loss: 0.4402 - acc: 0.8805 - val_loss: 0.3891 - val_acc: 0.8973\n",
            "Epoch 3/50\n",
            "844/844 [==============================] - 5s 6ms/step - loss: 0.3904 - acc: 0.8931 - val_loss: 0.3698 - val_acc: 0.8978\n",
            "Epoch 4/50\n",
            "844/844 [==============================] - 5s 6ms/step - loss: 0.3607 - acc: 0.9021 - val_loss: 0.3557 - val_acc: 0.9003\n",
            "Epoch 5/50\n",
            "844/844 [==============================] - 5s 6ms/step - loss: 0.3381 - acc: 0.9086 - val_loss: 0.3676 - val_acc: 0.8995\n",
            "Epoch 6/50\n",
            "844/844 [==============================] - 5s 6ms/step - loss: 0.3218 - acc: 0.9128 - val_loss: 0.3217 - val_acc: 0.9117\n",
            "Epoch 7/50\n",
            "844/844 [==============================] - 5s 6ms/step - loss: 0.3083 - acc: 0.9166 - val_loss: 0.3174 - val_acc: 0.9162\n",
            "Epoch 8/50\n",
            "844/844 [==============================] - 5s 6ms/step - loss: 0.2970 - acc: 0.9194 - val_loss: 0.3173 - val_acc: 0.9130\n",
            "Epoch 9/50\n",
            "844/844 [==============================] - 5s 6ms/step - loss: 0.2866 - acc: 0.9229 - val_loss: 0.2977 - val_acc: 0.9185\n",
            "Epoch 10/50\n",
            "844/844 [==============================] - 5s 6ms/step - loss: 0.2788 - acc: 0.9252 - val_loss: 0.2932 - val_acc: 0.9205\n",
            "Epoch 11/50\n",
            "844/844 [==============================] - 5s 6ms/step - loss: 0.2694 - acc: 0.9287 - val_loss: 0.2940 - val_acc: 0.9203\n",
            "Epoch 12/50\n",
            "844/844 [==============================] - 5s 6ms/step - loss: 0.2618 - acc: 0.9301 - val_loss: 0.2990 - val_acc: 0.9202\n",
            "Epoch 13/50\n",
            "844/844 [==============================] - 5s 6ms/step - loss: 0.2555 - acc: 0.9335 - val_loss: 0.2814 - val_acc: 0.9225\n",
            "Epoch 14/50\n",
            "844/844 [==============================] - 5s 6ms/step - loss: 0.2496 - acc: 0.9354 - val_loss: 0.2986 - val_acc: 0.9208\n",
            "Epoch 15/50\n",
            "844/844 [==============================] - 5s 6ms/step - loss: 0.2438 - acc: 0.9381 - val_loss: 0.2804 - val_acc: 0.9248\n",
            "Epoch 16/50\n",
            "844/844 [==============================] - 5s 6ms/step - loss: 0.2376 - acc: 0.9387 - val_loss: 0.2871 - val_acc: 0.9220\n",
            "Epoch 17/50\n",
            "844/844 [==============================] - 5s 6ms/step - loss: 0.2347 - acc: 0.9398 - val_loss: 0.2818 - val_acc: 0.9260\n",
            "Epoch 18/50\n",
            "844/844 [==============================] - 5s 6ms/step - loss: 0.2313 - acc: 0.9411 - val_loss: 0.2860 - val_acc: 0.9237\n",
            "Epoch 19/50\n",
            "844/844 [==============================] - 5s 6ms/step - loss: 0.2253 - acc: 0.9426 - val_loss: 0.2860 - val_acc: 0.9240\n",
            "Epoch 20/50\n",
            "844/844 [==============================] - 5s 6ms/step - loss: 0.2223 - acc: 0.9458 - val_loss: 0.2769 - val_acc: 0.9270\n",
            "Epoch 21/50\n",
            "844/844 [==============================] - 6s 7ms/step - loss: 0.2190 - acc: 0.9458 - val_loss: 0.2687 - val_acc: 0.9292\n",
            "Epoch 22/50\n",
            "844/844 [==============================] - 6s 7ms/step - loss: 0.2158 - acc: 0.9470 - val_loss: 0.2776 - val_acc: 0.9245\n",
            "Epoch 23/50\n",
            "844/844 [==============================] - 6s 7ms/step - loss: 0.2119 - acc: 0.9486 - val_loss: 0.2781 - val_acc: 0.9250\n",
            "Epoch 24/50\n",
            "844/844 [==============================] - 5s 6ms/step - loss: 0.2099 - acc: 0.9496 - val_loss: 0.2697 - val_acc: 0.9287\n",
            "Epoch 25/50\n",
            "844/844 [==============================] - 5s 6ms/step - loss: 0.2086 - acc: 0.9495 - val_loss: 0.2736 - val_acc: 0.9285\n",
            "Epoch 26/50\n",
            "844/844 [==============================] - 5s 6ms/step - loss: 0.2051 - acc: 0.9509 - val_loss: 0.2750 - val_acc: 0.9257\n",
            "Epoch 27/50\n",
            "844/844 [==============================] - 5s 6ms/step - loss: 0.2035 - acc: 0.9526 - val_loss: 0.2734 - val_acc: 0.9273\n",
            "Epoch 28/50\n",
            "844/844 [==============================] - 5s 6ms/step - loss: 0.2017 - acc: 0.9534 - val_loss: 0.2696 - val_acc: 0.9278\n",
            "Epoch 29/50\n",
            "844/844 [==============================] - 5s 6ms/step - loss: 0.1996 - acc: 0.9528 - val_loss: 0.2705 - val_acc: 0.9270\n",
            "Epoch 30/50\n",
            "844/844 [==============================] - 5s 6ms/step - loss: 0.1989 - acc: 0.9533 - val_loss: 0.2711 - val_acc: 0.9287\n",
            "Epoch 31/50\n",
            "844/844 [==============================] - 5s 6ms/step - loss: 0.1983 - acc: 0.9537 - val_loss: 0.2685 - val_acc: 0.9273\n",
            "Epoch 32/50\n",
            "844/844 [==============================] - 5s 6ms/step - loss: 0.1946 - acc: 0.9554 - val_loss: 0.2708 - val_acc: 0.9287\n",
            "Epoch 33/50\n",
            "844/844 [==============================] - 5s 6ms/step - loss: 0.1948 - acc: 0.9553 - val_loss: 0.2713 - val_acc: 0.9273\n",
            "Epoch 34/50\n",
            "844/844 [==============================] - 5s 6ms/step - loss: 0.1940 - acc: 0.9560 - val_loss: 0.2685 - val_acc: 0.9280\n",
            "Epoch 35/50\n",
            "844/844 [==============================] - 5s 6ms/step - loss: 0.1931 - acc: 0.9560 - val_loss: 0.2700 - val_acc: 0.9283\n",
            "Epoch 36/50\n",
            "844/844 [==============================] - 5s 6ms/step - loss: 0.1915 - acc: 0.9566 - val_loss: 0.2706 - val_acc: 0.9292\n",
            "Epoch 37/50\n",
            "844/844 [==============================] - 5s 6ms/step - loss: 0.1913 - acc: 0.9565 - val_loss: 0.2695 - val_acc: 0.9282\n",
            "Epoch 38/50\n",
            "844/844 [==============================] - 5s 6ms/step - loss: 0.1916 - acc: 0.9564 - val_loss: 0.2718 - val_acc: 0.9285\n",
            "Epoch 39/50\n",
            "844/844 [==============================] - 5s 6ms/step - loss: 0.1905 - acc: 0.9568 - val_loss: 0.2682 - val_acc: 0.9297\n",
            "Epoch 40/50\n",
            "844/844 [==============================] - 5s 6ms/step - loss: 0.1886 - acc: 0.9574 - val_loss: 0.2715 - val_acc: 0.9272\n",
            "Epoch 41/50\n",
            "844/844 [==============================] - 5s 6ms/step - loss: 0.1901 - acc: 0.9568 - val_loss: 0.2676 - val_acc: 0.9303\n",
            "Epoch 42/50\n",
            "844/844 [==============================] - 5s 6ms/step - loss: 0.1886 - acc: 0.9564 - val_loss: 0.2678 - val_acc: 0.9302\n",
            "Epoch 43/50\n",
            "844/844 [==============================] - 5s 6ms/step - loss: 0.1896 - acc: 0.9573 - val_loss: 0.2696 - val_acc: 0.9287\n",
            "Epoch 44/50\n",
            "844/844 [==============================] - 5s 6ms/step - loss: 0.1895 - acc: 0.9576 - val_loss: 0.2682 - val_acc: 0.9303\n",
            "Epoch 45/50\n",
            "844/844 [==============================] - 5s 6ms/step - loss: 0.1876 - acc: 0.9570 - val_loss: 0.2701 - val_acc: 0.9295\n",
            "Epoch 46/50\n",
            "844/844 [==============================] - 5s 6ms/step - loss: 0.1889 - acc: 0.9580 - val_loss: 0.2684 - val_acc: 0.9302\n",
            "Epoch 47/50\n",
            "844/844 [==============================] - 5s 6ms/step - loss: 0.1876 - acc: 0.9582 - val_loss: 0.2697 - val_acc: 0.9300\n",
            "Epoch 48/50\n",
            "844/844 [==============================] - 5s 6ms/step - loss: 0.1863 - acc: 0.9586 - val_loss: 0.2689 - val_acc: 0.9298\n",
            "Epoch 49/50\n",
            "844/844 [==============================] - 5s 6ms/step - loss: 0.1864 - acc: 0.9589 - val_loss: 0.2684 - val_acc: 0.9303\n",
            "Epoch 50/50\n",
            "844/844 [==============================] - 5s 6ms/step - loss: 0.1859 - acc: 0.9582 - val_loss: 0.2683 - val_acc: 0.9308\n"
          ]
        }
      ]
    },
    {
      "cell_type": "markdown",
      "metadata": {
        "id": "jmGScYJH30ck"
      },
      "source": [
        "We see that, we get a final validation accuracy of 93.08%."
      ]
    },
    {
      "cell_type": "markdown",
      "metadata": {
        "id": "hmPEebTB3xKE"
      },
      "source": [
        "## Final Evaluation"
      ]
    },
    {
      "cell_type": "markdown",
      "metadata": {
        "id": "4cCWEn3k376T"
      },
      "source": [
        "Now we will evaluate our model on the test data."
      ]
    },
    {
      "cell_type": "code",
      "metadata": {
        "colab": {
          "base_uri": "https://localhost:8080/"
        },
        "id": "UBT5zUHUDKBd",
        "outputId": "411b891f-b25f-407d-b3b7-02d3659d4358"
      },
      "source": [
        "loss, acc = model.evaluate(X_test, Y_test, batch_size=64)\n",
        "print(f'Test accuracy with given data: {acc:0.3%}')"
      ],
      "execution_count": null,
      "outputs": [
        {
          "output_type": "stream",
          "name": "stdout",
          "text": [
            "157/157 [==============================] - 0s 3ms/step - loss: 0.2835 - acc: 0.9265\n",
            "Test accuracy with given data: 92.650%\n"
          ]
        }
      ]
    },
    {
      "cell_type": "markdown",
      "metadata": {
        "id": "eKV5_0EY4AxM"
      },
      "source": [
        "We see that we get a final test accuracy of 92.65%."
      ]
    },
    {
      "cell_type": "markdown",
      "metadata": {
        "id": "ESSkvjGB9XU5"
      },
      "source": [
        "# VGG-16 Model Definition and Training"
      ]
    },
    {
      "cell_type": "markdown",
      "metadata": {
        "id": "CFBNwGfv8KV1"
      },
      "source": [
        "## Model Definition"
      ]
    },
    {
      "cell_type": "markdown",
      "metadata": {
        "id": "aPSLk3TB4hwL"
      },
      "source": [
        "Now we will use a VGG-16 model pretrained on the ImageNet dataset on our given dataset.\n",
        "* The lowest resolution of input for a VGG-16 model is 32x32. So, input 28x28 images will be padded to form 32x32 images.\n",
        "* VGG-16 takes 3 color channels as input. So we will repeat the single channel in grayscale images to produce the color channels.\n",
        "* We will only transfer ImageNet weights for the convolutional layers. We will add 2 additional linear layers (initialized to random values) on the flattened output which will perform the final classification.\n"
      ]
    },
    {
      "cell_type": "code",
      "metadata": {
        "id": "y4G3jBjv9Z6_"
      },
      "source": [
        "import tensorflow as tf\n",
        "from tensorflow.keras.applications.vgg16 import VGG16\n",
        "from tensorflow.keras import layers, models, optimizers, regularizers, losses, metrics\n",
        "\n",
        "\n",
        "base_model = VGG16(input_shape=(32,32,3), include_top=False, weights='imagenet')\n",
        "\n",
        "model_layers = [\n",
        "    layers.ZeroPadding2D(2, name='pad2', input_shape=(28,28,1)),\n",
        "    layers.Lambda(lambda v: tf.tile(v, (1,1,1,3)), name='gray2rgb'),\n",
        "    base_model,\n",
        "    layers.Flatten(name='flatten'),\n",
        "    layers.Dense(128, activation='relu', name='dense1'),\n",
        "    layers.Dense(10, activation=None, name='dense2')\n",
        "]\n",
        "\n",
        "model_pretrained = models.Sequential(model_layers, name='model_pretrained')"
      ],
      "execution_count": null,
      "outputs": []
    },
    {
      "cell_type": "markdown",
      "metadata": {
        "id": "W4biSP0j8PKc"
      },
      "source": [
        "## Training"
      ]
    },
    {
      "cell_type": "markdown",
      "metadata": {
        "id": "JruDR-sx8SQk"
      },
      "source": [
        "We will perform the training in two steps.\n",
        "1. First, we will freeze the convolutional layers and only train the final linear layers (which were randomly initialized).\n",
        "2. Then we will fine-tune the whole model.\n",
        "\n",
        "It is customary to train pre-trained model in these two stages to efficiently transfer the learned knowledge. Also, it usually makes the whole training process faster."
      ]
    },
    {
      "cell_type": "markdown",
      "metadata": {
        "id": "yTKqIC8d89ME"
      },
      "source": [
        "### Training the linear layers\n",
        "We will use similar settings for training and evaluation - optimizers, loss, metrics etc."
      ]
    },
    {
      "cell_type": "code",
      "metadata": {
        "colab": {
          "base_uri": "https://localhost:8080/"
        },
        "id": "y0J0_sHlSDU5",
        "outputId": "85421ee0-4cbd-45ef-b143-58022371e81b"
      },
      "source": [
        "base_model.trainable = False\n",
        "\n",
        "lr_schedule = optimizers.schedules.ExponentialDecay(1e-3, len(X_train)//64, 0.95)\n",
        "optim = optimizers.Adam(lr_schedule)\n",
        "loss_fn = losses.SparseCategoricalCrossentropy(from_logits=True, name='xent')\n",
        "acc = metrics.SparseCategoricalAccuracy(name='acc')\n",
        "\n",
        "model_pretrained.compile(optim, loss_fn, [acc])\n",
        "\n",
        "model_pretrained.summary()"
      ],
      "execution_count": null,
      "outputs": [
        {
          "output_type": "stream",
          "name": "stdout",
          "text": [
            "Model: \"model_pretrained\"\n",
            "_________________________________________________________________\n",
            "Layer (type)                 Output Shape              Param #   \n",
            "=================================================================\n",
            "pad2 (ZeroPadding2D)         (None, 32, 32, 1)         0         \n",
            "_________________________________________________________________\n",
            "gray2rgb (Lambda)            (None, 32, 32, 3)         0         \n",
            "_________________________________________________________________\n",
            "vgg16 (Functional)           (None, 1, 1, 512)         14714688  \n",
            "_________________________________________________________________\n",
            "flatten (Flatten)            (None, 512)               0         \n",
            "_________________________________________________________________\n",
            "dense1 (Dense)               (None, 128)               65664     \n",
            "_________________________________________________________________\n",
            "dense2 (Dense)               (None, 10)                1290      \n",
            "=================================================================\n",
            "Total params: 14,781,642\n",
            "Trainable params: 66,954\n",
            "Non-trainable params: 14,714,688\n",
            "_________________________________________________________________\n"
          ]
        }
      ]
    },
    {
      "cell_type": "code",
      "metadata": {
        "colab": {
          "base_uri": "https://localhost:8080/"
        },
        "id": "9VLSi__GQ0QH",
        "outputId": "faac60e9-5c24-4d18-c4a3-c736acee6c51"
      },
      "source": [
        "hist_obj = model_pretrained.fit(X_train, Y_train, batch_size=64, epochs=20, validation_data=(X_val, Y_val))"
      ],
      "execution_count": null,
      "outputs": [
        {
          "output_type": "stream",
          "name": "stdout",
          "text": [
            "Epoch 1/20\n",
            "844/844 [==============================] - 7s 9ms/step - loss: 0.6021 - acc: 0.7896 - val_loss: 0.4702 - val_acc: 0.8317\n",
            "Epoch 2/20\n",
            "844/844 [==============================] - 7s 8ms/step - loss: 0.4350 - acc: 0.8419 - val_loss: 0.4153 - val_acc: 0.8465\n",
            "Epoch 3/20\n",
            "844/844 [==============================] - 7s 8ms/step - loss: 0.3941 - acc: 0.8556 - val_loss: 0.3938 - val_acc: 0.8580\n",
            "Epoch 4/20\n",
            "844/844 [==============================] - 7s 9ms/step - loss: 0.3724 - acc: 0.8664 - val_loss: 0.3868 - val_acc: 0.8537\n",
            "Epoch 5/20\n",
            "844/844 [==============================] - 7s 8ms/step - loss: 0.3549 - acc: 0.8700 - val_loss: 0.3683 - val_acc: 0.8628\n",
            "Epoch 6/20\n",
            "844/844 [==============================] - 7s 8ms/step - loss: 0.3418 - acc: 0.8751 - val_loss: 0.3617 - val_acc: 0.8653\n",
            "Epoch 7/20\n",
            "844/844 [==============================] - 8s 9ms/step - loss: 0.3309 - acc: 0.8786 - val_loss: 0.3486 - val_acc: 0.8737\n",
            "Epoch 8/20\n",
            "844/844 [==============================] - 7s 8ms/step - loss: 0.3202 - acc: 0.8834 - val_loss: 0.3512 - val_acc: 0.8690\n",
            "Epoch 9/20\n",
            "844/844 [==============================] - 7s 8ms/step - loss: 0.3128 - acc: 0.8859 - val_loss: 0.3519 - val_acc: 0.8695\n",
            "Epoch 10/20\n",
            "844/844 [==============================] - 7s 8ms/step - loss: 0.3051 - acc: 0.8893 - val_loss: 0.3394 - val_acc: 0.8750\n",
            "Epoch 11/20\n",
            "844/844 [==============================] - 7s 8ms/step - loss: 0.2991 - acc: 0.8905 - val_loss: 0.3439 - val_acc: 0.8720\n",
            "Epoch 12/20\n",
            "844/844 [==============================] - 7s 8ms/step - loss: 0.2915 - acc: 0.8934 - val_loss: 0.3370 - val_acc: 0.8742\n",
            "Epoch 13/20\n",
            "844/844 [==============================] - 7s 8ms/step - loss: 0.2866 - acc: 0.8954 - val_loss: 0.3336 - val_acc: 0.8747\n",
            "Epoch 14/20\n",
            "844/844 [==============================] - 7s 8ms/step - loss: 0.2810 - acc: 0.8977 - val_loss: 0.3323 - val_acc: 0.8758\n",
            "Epoch 15/20\n",
            "844/844 [==============================] - 7s 8ms/step - loss: 0.2763 - acc: 0.8990 - val_loss: 0.3366 - val_acc: 0.8747\n",
            "Epoch 16/20\n",
            "844/844 [==============================] - 7s 8ms/step - loss: 0.2720 - acc: 0.9009 - val_loss: 0.3261 - val_acc: 0.8800\n",
            "Epoch 17/20\n",
            "844/844 [==============================] - 7s 9ms/step - loss: 0.2674 - acc: 0.9032 - val_loss: 0.3256 - val_acc: 0.8802\n",
            "Epoch 18/20\n",
            "844/844 [==============================] - 7s 8ms/step - loss: 0.2632 - acc: 0.9046 - val_loss: 0.3217 - val_acc: 0.8828\n",
            "Epoch 19/20\n",
            "844/844 [==============================] - 7s 8ms/step - loss: 0.2602 - acc: 0.9049 - val_loss: 0.3206 - val_acc: 0.8825\n",
            "Epoch 20/20\n",
            "844/844 [==============================] - 7s 8ms/step - loss: 0.2564 - acc: 0.9064 - val_loss: 0.3243 - val_acc: 0.8773\n"
          ]
        }
      ]
    },
    {
      "cell_type": "markdown",
      "metadata": {
        "id": "IwGx5_Uv9RbD"
      },
      "source": [
        "### Finetuning the whole model\n",
        "We will use similar settings for training and evaluation - optimizers, loss, metrics etc."
      ]
    },
    {
      "cell_type": "code",
      "metadata": {
        "colab": {
          "base_uri": "https://localhost:8080/"
        },
        "id": "d0kxCBomStI_",
        "outputId": "4c3f62ed-086a-4fc0-956d-2c82a8d3ae05"
      },
      "source": [
        "base_model.trainable = True\n",
        "\n",
        "lr_schedule = optimizers.schedules.ExponentialDecay(1e-4, len(X_train)//64, 0.95)\n",
        "optim = optimizers.Adam(lr_schedule)\n",
        "model_pretrained.compile(optim, loss_fn, [acc])\n",
        "\n",
        "model_pretrained.summary()"
      ],
      "execution_count": null,
      "outputs": [
        {
          "output_type": "stream",
          "name": "stdout",
          "text": [
            "Model: \"model_pretrained\"\n",
            "_________________________________________________________________\n",
            "Layer (type)                 Output Shape              Param #   \n",
            "=================================================================\n",
            "pad2 (ZeroPadding2D)         (None, 32, 32, 1)         0         \n",
            "_________________________________________________________________\n",
            "gray2rgb (Lambda)            (None, 32, 32, 3)         0         \n",
            "_________________________________________________________________\n",
            "vgg16 (Functional)           (None, 1, 1, 512)         14714688  \n",
            "_________________________________________________________________\n",
            "flatten (Flatten)            (None, 512)               0         \n",
            "_________________________________________________________________\n",
            "dense1 (Dense)               (None, 128)               65664     \n",
            "_________________________________________________________________\n",
            "dense2 (Dense)               (None, 10)                1290      \n",
            "=================================================================\n",
            "Total params: 14,781,642\n",
            "Trainable params: 14,781,642\n",
            "Non-trainable params: 0\n",
            "_________________________________________________________________\n"
          ]
        }
      ]
    },
    {
      "cell_type": "code",
      "metadata": {
        "colab": {
          "base_uri": "https://localhost:8080/"
        },
        "id": "Qu8PYbq0S52X",
        "outputId": "a2a7a3fc-97fd-47e0-d15b-34aa2ff990f5"
      },
      "source": [
        "hist_obj = model_pretrained.fit(X_train, Y_train, batch_size=64, epochs=20, validation_data=(X_val, Y_val))\n"
      ],
      "execution_count": null,
      "outputs": [
        {
          "output_type": "stream",
          "name": "stdout",
          "text": [
            "Epoch 1/20\n",
            "  1/844 [..............................] - ETA: 0s - loss: 0.2962 - acc: 0.8775WARNING:tensorflow:Callbacks method `on_train_batch_end` is slow compared to the batch time (batch time: 0.0080s vs `on_train_batch_end` time: 0.0150s). Check your callbacks.\n",
            "844/844 [==============================] - 24s 28ms/step - loss: 0.3773 - acc: 0.8677 - val_loss: 0.2523 - val_acc: 0.9095\n",
            "Epoch 2/20\n",
            "844/844 [==============================] - 23s 27ms/step - loss: 0.2415 - acc: 0.9118 - val_loss: 0.2143 - val_acc: 0.9220\n",
            "Epoch 3/20\n",
            "844/844 [==============================] - 23s 27ms/step - loss: 0.2052 - acc: 0.9257 - val_loss: 0.2160 - val_acc: 0.9243\n",
            "Epoch 4/20\n",
            "844/844 [==============================] - 23s 27ms/step - loss: 0.1757 - acc: 0.9349 - val_loss: 0.1971 - val_acc: 0.9280\n",
            "Epoch 5/20\n",
            "844/844 [==============================] - 23s 27ms/step - loss: 0.1533 - acc: 0.9444 - val_loss: 0.2312 - val_acc: 0.9153\n",
            "Epoch 6/20\n",
            "844/844 [==============================] - 23s 27ms/step - loss: 0.1338 - acc: 0.9509 - val_loss: 0.2000 - val_acc: 0.9377\n",
            "Epoch 7/20\n",
            "844/844 [==============================] - 23s 27ms/step - loss: 0.1128 - acc: 0.9588 - val_loss: 0.2095 - val_acc: 0.9283\n",
            "Epoch 8/20\n",
            "844/844 [==============================] - 23s 27ms/step - loss: 0.0937 - acc: 0.9654 - val_loss: 0.2227 - val_acc: 0.9330\n",
            "Epoch 9/20\n",
            "844/844 [==============================] - 21s 25ms/step - loss: 0.0738 - acc: 0.9731 - val_loss: 0.2353 - val_acc: 0.9315\n",
            "Epoch 10/20\n",
            "844/844 [==============================] - 21s 25ms/step - loss: 0.0641 - acc: 0.9772 - val_loss: 0.2391 - val_acc: 0.9298\n",
            "Epoch 11/20\n",
            "844/844 [==============================] - 21s 25ms/step - loss: 0.0485 - acc: 0.9827 - val_loss: 0.2371 - val_acc: 0.9373\n",
            "Epoch 12/20\n",
            "844/844 [==============================] - 21s 25ms/step - loss: 0.0409 - acc: 0.9852 - val_loss: 0.2621 - val_acc: 0.9393\n",
            "Epoch 13/20\n",
            "844/844 [==============================] - 22s 26ms/step - loss: 0.0326 - acc: 0.9885 - val_loss: 0.2952 - val_acc: 0.9342\n",
            "Epoch 14/20\n",
            "844/844 [==============================] - 22s 26ms/step - loss: 0.0244 - acc: 0.9914 - val_loss: 0.3126 - val_acc: 0.9375\n",
            "Epoch 15/20\n",
            "844/844 [==============================] - 22s 26ms/step - loss: 0.0225 - acc: 0.9925 - val_loss: 0.3270 - val_acc: 0.9338\n",
            "Epoch 16/20\n",
            "844/844 [==============================] - 22s 26ms/step - loss: 0.0182 - acc: 0.9939 - val_loss: 0.3254 - val_acc: 0.9373\n",
            "Epoch 17/20\n",
            "844/844 [==============================] - 22s 26ms/step - loss: 0.0147 - acc: 0.9951 - val_loss: 0.3242 - val_acc: 0.9365\n",
            "Epoch 18/20\n",
            "844/844 [==============================] - 21s 25ms/step - loss: 0.0127 - acc: 0.9959 - val_loss: 0.3724 - val_acc: 0.9348\n",
            "Epoch 19/20\n",
            "844/844 [==============================] - 21s 25ms/step - loss: 0.0129 - acc: 0.9958 - val_loss: 0.3580 - val_acc: 0.9352\n",
            "Epoch 20/20\n",
            "844/844 [==============================] - 21s 25ms/step - loss: 0.0079 - acc: 0.9974 - val_loss: 0.3597 - val_acc: 0.9372\n"
          ]
        }
      ]
    },
    {
      "cell_type": "markdown",
      "metadata": {
        "id": "80_CK5C1AibG"
      },
      "source": [
        "We see that we get a final validation set accuracy of 93.72%, which is higher than that of the CNN trained from scratch in the previous step."
      ]
    },
    {
      "cell_type": "markdown",
      "metadata": {
        "id": "Pvhc6n069YxK"
      },
      "source": [
        "## Final evaluation"
      ]
    },
    {
      "cell_type": "markdown",
      "metadata": {
        "id": "cx0On0-3AdYO"
      },
      "source": [
        "Now we will evaluate the fine-tuned model on the test set."
      ]
    },
    {
      "cell_type": "code",
      "metadata": {
        "colab": {
          "base_uri": "https://localhost:8080/"
        },
        "id": "w2wUGcfZVwcY",
        "outputId": "413fbd02-820b-4c9d-bc91-ae1762270e6a"
      },
      "source": [
        "loss, acc = model_pretrained.evaluate(X_test, Y_test, batch_size=64)\n",
        "print(f'Test accuracy with pretrained model: {acc:0.3%}')"
      ],
      "execution_count": null,
      "outputs": [
        {
          "output_type": "stream",
          "name": "stdout",
          "text": [
            "157/157 [==============================] - 1s 8ms/step - loss: 0.3436 - acc: 0.9387\n",
            "Test accuracy with pretrained model: 93.870%\n"
          ]
        }
      ]
    },
    {
      "cell_type": "markdown",
      "metadata": {
        "id": "OAk-Oq49B0L8"
      },
      "source": [
        "We see that, we get a final test accuracy of 93.87% which is much higher than the test accuracy for the CNN trained from screatch (i.e. 92.65%)."
      ]
    },
    {
      "cell_type": "markdown",
      "metadata": {
        "id": "IDIvuFcPCbLc"
      },
      "source": [
        "## Differences Observed\n",
        "We observed the following differences for the pre-trained VGG-16 model, compared to the CNN trained from scratch.\n",
        "* The pre-trained model acheives a much higher accuracy (93.87%) than the CNN trained from scratch (92.65%)\n",
        "* Although, the pre-trained model was much bigger than the CNN used in previous step, it was much faster to train.\n",
        "\n",
        "Both of these are due to the fact that we are transferring knowledge learned by the network while training on the ImageNet dataset, which allows it to start from an initialization that produces good visual representations of the input images, rather than random initialization (i.e. intitilation from scratch)."
      ]
    },
    {
      "cell_type": "markdown",
      "metadata": {
        "id": "e95x3qg_8CkV"
      },
      "source": [
        "# CNN Model Definition and Training on Augmented Data"
      ]
    },
    {
      "cell_type": "markdown",
      "metadata": {
        "id": "imDwZY2gL5F8"
      },
      "source": [
        "Now we will apply augmentation on the dataset and train another CNN on the augmented data."
      ]
    },
    {
      "cell_type": "markdown",
      "metadata": {
        "id": "bE-3mBIS3Qb9"
      },
      "source": [
        "## Augmentation"
      ]
    },
    {
      "cell_type": "markdown",
      "metadata": {
        "id": "Yc0pEsrvMJuD"
      },
      "source": [
        "The dataset does not contain rotated, shifted or flipped images of fashion articles. However, we can apply the following augmentations on the images - \n",
        "1. Affine transformation: We apply slight random affine transformations on the images which zooms (horizontally or vertically) and sheers the image by ceration ammount.\n",
        "2. Gamma shift: We change the intesity values of the pixels by a random gamma transformation which brightens or dims the image by certain amount.\n",
        "3. Gaussian blur: We apply a random gaussian blur filter on the image which randomly reduces its sharpness.\n",
        "\n",
        "We will apply these augmentations in a randomly chosen sequence."
      ]
    },
    {
      "cell_type": "code",
      "metadata": {
        "colab": {
          "base_uri": "https://localhost:8080/",
          "height": 341
        },
        "id": "tUbikvRFDvWw",
        "outputId": "5008e911-dc29-45f6-e5f4-0a1dd2ebf027"
      },
      "source": [
        "import cv2\n",
        "import random\n",
        "\n",
        "ref_pts = np.float32([[8, 8], [8, 17], [17, 14]])\n",
        "\n",
        "def augment_affine(X):\n",
        "    rand_val = np.random.uniform(low=-.5, high=.5, \n",
        "                                 size=(3,2)).astype(np.float32)\n",
        "    dst_pts = ref_pts + rand_val\n",
        "    M = cv2.getAffineTransform(ref_pts,dst_pts)\n",
        "    return cv2.warpAffine(X, M, (28,28))\n",
        "\n",
        "def augment_gamma(X):\n",
        "    rand_val = np.random.uniform(low=.5, high=2., \n",
        "                                 size=()).astype(np.float32)\n",
        "    return X ** rand_val\n",
        "\n",
        "def augment_gaussian(X):\n",
        "    rand_val = np.random.uniform(low=0., high=.5, \n",
        "                                 size=()).astype(np.float32)\n",
        "    return cv2.GaussianBlur(X, (5,5), rand_val)\n",
        "\n",
        "augment_fns = [augment_gaussian,augment_gamma,augment_affine]\n",
        "def augment(X, multiples):\n",
        "    out = []\n",
        "    for _ in range(multiples):\n",
        "        X_t = X\n",
        "        random.shuffle(augment_fns)\n",
        "        for f in augment_fns:\n",
        "            X_t = f(X_t)\n",
        "        out.append(X_t)\n",
        "    return out\n",
        "\n",
        "plt.figure(figsize=[20,5])\n",
        "original = X_train[0].squeeze()\n",
        "augmented = augment(original, 9)\n",
        "\n",
        "plt.subplot(1,10,1)\n",
        "plt.imshow(original,cmap='gray')\n",
        "plt.axis('off')\n",
        "plt.title(f'Original')\n",
        "for y in range(9):\n",
        "    plt.subplot(1,10,2+y)\n",
        "    plt.imshow(augmented[y],cmap='gray')\n",
        "    plt.axis('off')\n",
        "    plt.title(f'Augmented:{y+1}')\n",
        "plt.tight_layout()\n",
        "\n",
        "\n",
        "plt.figure(figsize=[20,5])\n",
        "original = X_train[1].squeeze()\n",
        "augmented = augment(original, 9)\n",
        "\n",
        "plt.subplot(1,10,1)\n",
        "plt.imshow(original,cmap='gray')\n",
        "plt.axis('off')\n",
        "plt.title(f'Original')\n",
        "for y in range(9):\n",
        "    plt.subplot(1,10,2+y)\n",
        "    plt.imshow(augmented[y],cmap='gray')\n",
        "    plt.axis('off')\n",
        "    plt.title(f'Augmented:{y+1}')\n",
        "plt.tight_layout()"
      ],
      "execution_count": null,
      "outputs": [
        {
          "output_type": "display_data",
          "data": {
            "text/plain": [
              "<Figure size 1440x360 with 10 Axes>"
            ],
            "image/png": "[encoded data removed]"
          },
          "metadata": {
            "needs_background": "light"
          }
        },
        {
          "output_type": "display_data",
          "data": {
            "text/plain": [
              "<Figure size 1440x360 with 10 Axes>"
            ],
            "image/png": "[encoded data removed]"
          },
          "metadata": {
            "needs_background": "light"
          }
        }
      ]
    },
    {
      "cell_type": "markdown",
      "metadata": {
        "id": "6UgTRH0zOZck"
      },
      "source": [
        "Now we will add 9 augmented variants of each image in the dataset to increase the size of the training dataset tenfold."
      ]
    },
    {
      "cell_type": "code",
      "metadata": {
        "colab": {
          "base_uri": "https://localhost:8080/"
        },
        "id": "a5jNiv-nS80J",
        "outputId": "5e11a807-f74c-4351-90ec-a057db5e6f20"
      },
      "source": [
        "from tqdm import tqdm\n",
        "\n",
        "multiples = 9\n",
        "\n",
        "X_train_augmented = []\n",
        "Y_train_augmented = []\n",
        "\n",
        "for X,Y in tqdm(zip(X_train.squeeze(-1), Y_train), \n",
        "                total=len(Y_train)):\n",
        "    X_train_augmented.extend(augment(X,multiples))\n",
        "    Y_train_augmented.extend([Y]*multiples)\n",
        "\n",
        "X_train_augmented = np.expand_dims(np.stack(X_train_augmented, axis=0), axis=-1)\n",
        "Y_train_augmented = np.stack(Y_train_augmented)\n",
        "\n",
        "X_train_augmented = np.concatenate([X_train, X_train_augmented],axis=0)\n",
        "Y_train_augmented = np.concatenate([Y_train, Y_train_augmented],axis=0)"
      ],
      "execution_count": null,
      "outputs": [
        {
          "output_type": "stream",
          "name": "stderr",
          "text": [
            "100%|██████████████████████████████████████████████████████████████████████████| 54000/54000 [00:24<00:00, 2210.58it/s]\n"
          ]
        }
      ]
    },
    {
      "cell_type": "markdown",
      "metadata": {
        "id": "L-JzvwdqOrbc"
      },
      "source": [
        "## Model definition"
      ]
    },
    {
      "cell_type": "markdown",
      "metadata": {
        "id": "EBAc0te2TUib"
      },
      "source": [
        "We will use similar model architecture as in part 1. But we made 2 important changes - \n",
        "1. With the augmented data we were able to train a bigger model without overfitting the training data. We doubled the number of channels for the CNN layers.\n",
        "2. Also, regularization is much less necessary to prevent overfitting."
      ]
    },
    {
      "cell_type": "code",
      "metadata": {
        "colab": {
          "base_uri": "https://localhost:8080/"
        },
        "id": "PX2lNzSXXKGb",
        "outputId": "d6813fd6-a990-4d25-b83e-2fab53c2ee15"
      },
      "source": [
        "import tensorflow as tf\n",
        "from tensorflow.keras import layers, models, optimizers, regularizers, losses, metrics\n",
        "\n",
        "\n",
        "dropout_prob = 0.1\n",
        "l2_reg = regularizers.l2(5e-4)\n",
        "channel_mult = 2\n",
        "\n",
        "model_layers = [\n",
        "    layers.ZeroPadding2D(2, name='pad2', input_shape=(28,28,1)),\n",
        "    layers.Conv2D(filters=round(32*channel_mult), kernel_size=(5,5), activation='elu',\n",
        "                                padding='same', kernel_regularizer=l2_reg, name='conv11'),\n",
        "    layers.Dropout(dropout_prob, name='drp11'),\n",
        "\n",
        "    layers.Conv2D(filters=round(32*channel_mult), kernel_size=(5,5), activation='elu',\n",
        "                                padding='same', kernel_regularizer=l2_reg, name='conv12'),\n",
        "    layers.Dropout(dropout_prob, name='drp12'),\n",
        "    layers.MaxPool2D((2,2), name='pool1'),\n",
        "\n",
        "\n",
        "    layers.Conv2D(filters=round(64*channel_mult), kernel_size=(3,3), activation='elu',\n",
        "                                padding='same', kernel_regularizer=l2_reg, name='conv21'),\n",
        "    layers.Dropout(dropout_prob, name='drp21'),\n",
        "\n",
        "    layers.Conv2D(filters=round(64*channel_mult), kernel_size=(3,3), activation='elu',\n",
        "                                padding='same', kernel_regularizer=l2_reg, name='conv22'),\n",
        "    layers.Dropout(dropout_prob, name='drp22'),\n",
        "    layers.MaxPool2D((2,2), name='pool2'),\n",
        "\n",
        "    layers.Conv2D(filters=round(128*channel_mult), kernel_size=(3,3), activation='elu',\n",
        "                                padding='same', kernel_regularizer=l2_reg, name='conv31'),\n",
        "    layers.Dropout(dropout_prob, name='drp31'),\n",
        "\n",
        "    layers.Conv2D(filters=round(128*channel_mult), kernel_size=(3,3), activation='elu',\n",
        "                                padding='same', kernel_regularizer=l2_reg, name='conv32'),\n",
        "    layers.Dropout(dropout_prob, name='drp32'),\n",
        "    layers.MaxPool2D((2,2), name='pool3'),\n",
        "\n",
        "\n",
        "    layers.Flatten(name='flatten'),\n",
        "    layers.Dense(round(64*channel_mult), kernel_regularizer=l2_reg, activation='elu', name='dense1'),\n",
        "    layers.Dense(10, activation=None, name='dense2')\n",
        "]\n",
        "\n",
        "model_augmented = models.Sequential(model_layers, name='trained_on_augmented')\n",
        "model_augmented.summary()"
      ],
      "execution_count": null,
      "outputs": [
        {
          "output_type": "stream",
          "name": "stdout",
          "text": [
            "Model: \"trained_on_augmented\"\n",
            "_________________________________________________________________\n",
            "Layer (type)                 Output Shape              Param #   \n",
            "=================================================================\n",
            "pad2 (ZeroPadding2D)         (None, 32, 32, 1)         0         \n",
            "_________________________________________________________________\n",
            "conv11 (Conv2D)              (None, 32, 32, 64)        1664      \n",
            "_________________________________________________________________\n",
            "drp11 (Dropout)              (None, 32, 32, 64)        0         \n",
            "_________________________________________________________________\n",
            "conv12 (Conv2D)              (None, 32, 32, 64)        102464    \n",
            "_________________________________________________________________\n",
            "drp12 (Dropout)              (None, 32, 32, 64)        0         \n",
            "_________________________________________________________________\n",
            "pool1 (MaxPooling2D)         (None, 16, 16, 64)        0         \n",
            "_________________________________________________________________\n",
            "conv21 (Conv2D)              (None, 16, 16, 128)       73856     \n",
            "_________________________________________________________________\n",
            "drp21 (Dropout)              (None, 16, 16, 128)       0         \n",
            "_________________________________________________________________\n",
            "conv22 (Conv2D)              (None, 16, 16, 128)       147584    \n",
            "_________________________________________________________________\n",
            "drp22 (Dropout)              (None, 16, 16, 128)       0         \n",
            "_________________________________________________________________\n",
            "pool2 (MaxPooling2D)         (None, 8, 8, 128)         0         \n",
            "_________________________________________________________________\n",
            "conv31 (Conv2D)              (None, 8, 8, 256)         295168    \n",
            "_________________________________________________________________\n",
            "drp31 (Dropout)              (None, 8, 8, 256)         0         \n",
            "_________________________________________________________________\n",
            "conv32 (Conv2D)              (None, 8, 8, 256)         590080    \n",
            "_________________________________________________________________\n",
            "drp32 (Dropout)              (None, 8, 8, 256)         0         \n",
            "_________________________________________________________________\n",
            "pool3 (MaxPooling2D)         (None, 4, 4, 256)         0         \n",
            "_________________________________________________________________\n",
            "flatten (Flatten)            (None, 4096)              0         \n",
            "_________________________________________________________________\n",
            "dense1 (Dense)               (None, 128)               524416    \n",
            "_________________________________________________________________\n",
            "dense2 (Dense)               (None, 10)                1290      \n",
            "=================================================================\n",
            "Total params: 1,736,522\n",
            "Trainable params: 1,736,522\n",
            "Non-trainable params: 0\n",
            "_________________________________________________________________\n"
          ]
        }
      ]
    },
    {
      "cell_type": "markdown",
      "metadata": {
        "id": "alRq2wj9T_3D"
      },
      "source": [
        "## Training"
      ]
    },
    {
      "cell_type": "markdown",
      "metadata": {
        "id": "8x3UEZ5AUC2L"
      },
      "source": [
        "Since we are traing on a bigger dataset, we found that training for 20 epochs is enough."
      ]
    },
    {
      "cell_type": "code",
      "metadata": {
        "colab": {
          "base_uri": "https://localhost:8080/"
        },
        "id": "iOAZMLwaW3_8",
        "outputId": "dd1fed05-e7ea-4aa6-e348-cc4f5abaf15c"
      },
      "source": [
        "lr_schedule = optimizers.schedules.ExponentialDecay(1e-3, len(X_train)//64, 0.95)\n",
        "optim = optimizers.Adam(lr_schedule)\n",
        "loss_fn = losses.SparseCategoricalCrossentropy(from_logits=True, name='xent')\n",
        "acc = metrics.SparseCategoricalAccuracy(name='acc')\n",
        "\n",
        "model_augmented.compile(optim, loss_fn, [acc])\n",
        "\n",
        "hist_obj_augmented = model_augmented.fit(X_train_augmented, Y_train_augmented, \n",
        "                                         batch_size=64, epochs=20, \n",
        "                                         validation_data=(X_val, Y_val))"
      ],
      "execution_count": null,
      "outputs": [
        {
          "output_type": "stream",
          "name": "stdout",
          "text": [
            "Epoch 1/20\n",
            "8438/8438 [==============================] - 113s 13ms/step - loss: 0.4783 - acc: 0.8873 - val_loss: 0.3614 - val_acc: 0.9173\n",
            "Epoch 2/20\n",
            "8438/8438 [==============================] - 114s 13ms/step - loss: 0.3290 - acc: 0.9225 - val_loss: 0.3084 - val_acc: 0.9303\n",
            "Epoch 3/20\n",
            "8438/8438 [==============================] - 114s 14ms/step - loss: 0.2704 - acc: 0.9388 - val_loss: 0.2936 - val_acc: 0.9292\n",
            "Epoch 4/20\n",
            "8438/8438 [==============================] - 114s 14ms/step - loss: 0.2305 - acc: 0.9511 - val_loss: 0.2803 - val_acc: 0.9385\n",
            "Epoch 5/20\n",
            "8438/8438 [==============================] - 114s 14ms/step - loss: 0.2007 - acc: 0.9610 - val_loss: 0.2811 - val_acc: 0.9370\n",
            "Epoch 6/20\n",
            "8438/8438 [==============================] - 112s 13ms/step - loss: 0.1797 - acc: 0.9682 - val_loss: 0.2802 - val_acc: 0.9410\n",
            "Epoch 7/20\n",
            "8438/8438 [==============================] - 109s 13ms/step - loss: 0.1661 - acc: 0.9729 - val_loss: 0.2884 - val_acc: 0.9383\n",
            "Epoch 8/20\n",
            "8438/8438 [==============================] - 109s 13ms/step - loss: 0.1565 - acc: 0.9767 - val_loss: 0.2884 - val_acc: 0.9402\n",
            "Epoch 9/20\n",
            "8438/8438 [==============================] - 109s 13ms/step - loss: 0.1505 - acc: 0.9788 - val_loss: 0.2882 - val_acc: 0.9417\n",
            "Epoch 10/20\n",
            "8438/8438 [==============================] - 109s 13ms/step - loss: 0.1465 - acc: 0.9801 - val_loss: 0.2892 - val_acc: 0.9428\n",
            "Epoch 11/20\n",
            "8438/8438 [==============================] - 109s 13ms/step - loss: 0.1437 - acc: 0.9814 - val_loss: 0.2906 - val_acc: 0.9422\n",
            "Epoch 12/20\n",
            "8438/8438 [==============================] - 109s 13ms/step - loss: 0.1422 - acc: 0.9817 - val_loss: 0.2943 - val_acc: 0.9415\n",
            "Epoch 13/20\n",
            "8438/8438 [==============================] - 109s 13ms/step - loss: 0.1414 - acc: 0.9821 - val_loss: 0.2935 - val_acc: 0.9413\n",
            "Epoch 14/20\n",
            "8438/8438 [==============================] - 109s 13ms/step - loss: 0.1410 - acc: 0.9822 - val_loss: 0.2949 - val_acc: 0.9412\n",
            "Epoch 15/20\n",
            "8438/8438 [==============================] - 109s 13ms/step - loss: 0.1402 - acc: 0.9828 - val_loss: 0.2948 - val_acc: 0.9410\n",
            "Epoch 16/20\n",
            "8438/8438 [==============================] - 109s 13ms/step - loss: 0.1398 - acc: 0.9828 - val_loss: 0.2945 - val_acc: 0.9415\n",
            "Epoch 17/20\n",
            "8438/8438 [==============================] - 109s 13ms/step - loss: 0.1399 - acc: 0.9826 - val_loss: 0.2947 - val_acc: 0.9412\n",
            "Epoch 18/20\n",
            "8438/8438 [==============================] - 109s 13ms/step - loss: 0.1397 - acc: 0.9827 - val_loss: 0.2947 - val_acc: 0.9418\n",
            "Epoch 19/20\n",
            "8438/8438 [==============================] - 108s 13ms/step - loss: 0.1396 - acc: 0.9829 - val_loss: 0.2948 - val_acc: 0.9415\n",
            "Epoch 20/20\n",
            "8438/8438 [==============================] - 108s 13ms/step - loss: 0.1396 - acc: 0.9828 - val_loss: 0.2947 - val_acc: 0.9415\n"
          ]
        }
      ]
    },
    {
      "cell_type": "markdown",
      "metadata": {
        "id": "5ER7s0wfUXly"
      },
      "source": [
        "We see that we get a final validation accuracy of 94.15% which is much higher than the CNN trained on the original data (93.08%)."
      ]
    },
    {
      "cell_type": "markdown",
      "metadata": {
        "id": "hbhMn-xdU88T"
      },
      "source": [
        "## Final evaluation"
      ]
    },
    {
      "cell_type": "markdown",
      "metadata": {
        "id": "YWPHr1vuVkKT"
      },
      "source": [
        "Now we will perform the final evaluation on the test dataset."
      ]
    },
    {
      "cell_type": "code",
      "metadata": {
        "colab": {
          "base_uri": "https://localhost:8080/"
        },
        "id": "vBk7gUsnb90Q",
        "outputId": "a2eb11e1-5365-4fd4-9487-28e1ab9f7a15"
      },
      "source": [
        "loss, acc = model_augmented.evaluate(X_test, Y_test, batch_size=64)\n",
        "print(f'Test accuracy with augmented data: {acc:0.3%}')"
      ],
      "execution_count": null,
      "outputs": [
        {
          "output_type": "stream",
          "name": "stdout",
          "text": [
            "157/157 [==============================] - 1s 5ms/step - loss: 0.3219 - acc: 0.9353\n",
            "Test accuracy with augmented data: 93.530%\n"
          ]
        }
      ]
    },
    {
      "cell_type": "markdown",
      "metadata": {
        "id": "MjGUOzYmVtZj"
      },
      "source": [
        "We get a final test accuracy of 93.53%. We see that we get an increase in test accuracy by using augmented data over original data (92.65%). This is also due to the fact that, we were able to train a bigger model without overfitting."
      ]
    }
  ]
}